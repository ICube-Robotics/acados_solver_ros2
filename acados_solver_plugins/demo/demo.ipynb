{
    "cells": [
        {
            "cell_type": "code",
            "execution_count": null,
            "metadata": {},
            "outputs": [],
            "source": [
                "# Create ocp\n",
                "from export_acados_ocp import export_pendulum_cart_acados_ocp\n",
                "acados_ocp = export_pendulum_cart_acados_ocp()\n",
                "\n",
                "# Define the index maps\n",
                "x_index_map = {\n",
                "    'p' : [0],\n",
                "    'p_dot' : [1],\n",
                "    'theta' : [2],\n",
                "    'theta_dot' : [3],\n",
                "}\n",
                "z_index_map = {}\n",
                "p_index_map = {\n",
                "    'mass_cart' : [0],\n",
                "    'mass_ball' : [1],\n",
                "}\n",
                "u_index_map = {\n",
                "    'f' : [0],\n",
                "}\n",
                "\n",
                "import acados_solver_plugins\n",
                "from acados_solver_plugins import  SolverPluginGenerator\n",
                "\n",
                "# Instanciate plugin generator\n",
                "solver_plugin_generator = SolverPluginGenerator()\n",
                "\n",
                "solver_plugin_generator.generate_solver_plugin(\n",
                "    acados_ocp,\n",
                "    plugin_class_name = 'MockAcadosSolver',\n",
                "    solver_description = 'This is an example of Acados solver plugin. The underlying model is a pendulum on a cart.',\n",
                "    x_index_map = x_index_map,\n",
                "    z_index_map = z_index_map,\n",
                "    p_index_map = p_index_map,\n",
                "    u_index_map = u_index_map,\n",
                "    )"
            ]
        }
    ],
    "metadata": {
        "kernelspec": {
            "display_name": "Python 3",
            "language": "python",
            "name": "python3"
        },
        "language_info": {
            "codemirror_mode": {
                "name": "ipython",
                "version": 3
            },
            "file_extension": ".py",
            "mimetype": "text/x-python",
            "name": "python",
            "nbconvert_exporter": "python",
            "pygments_lexer": "ipython3",
            "version": "3.10.12"
        },
        "orig_nbformat": 4
    },
    "nbformat": 4,
    "nbformat_minor": 2
}
